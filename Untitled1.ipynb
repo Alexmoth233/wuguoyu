{
 "cells": [
  {
   "cell_type": "code",
   "execution_count": 1,
   "id": "2bd3a025-3c7b-497c-9134-99a8b7ae6323",
   "metadata": {},
   "outputs": [
    {
     "name": "stdout",
     "output_type": "stream",
     "text": [
      "Collecting torch\n",
      "  Downloading torch-2.5.1-cp39-cp39-win_amd64.whl (203.0 MB)\n",
      "     -------------------------------------- 203.0/203.0 MB 1.8 MB/s eta 0:00:00\n",
      "Requirement already satisfied: typing-extensions>=4.8.0 in c:\\programdata\\anaconda3\\lib\\site-packages (from torch) (4.12.2)\n",
      "Requirement already satisfied: networkx in c:\\programdata\\anaconda3\\lib\\site-packages (from torch) (2.8.4)\n",
      "Requirement already satisfied: jinja2 in c:\\programdata\\anaconda3\\lib\\site-packages (from torch) (2.11.3)\n",
      "Collecting sympy==1.13.1\n",
      "  Downloading sympy-1.13.1-py3-none-any.whl (6.2 MB)\n",
      "     ---------------------------------------- 6.2/6.2 MB 1.6 MB/s eta 0:00:00\n",
      "Requirement already satisfied: filelock in c:\\programdata\\anaconda3\\lib\\site-packages (from torch) (3.6.0)\n",
      "Requirement already satisfied: fsspec in c:\\programdata\\anaconda3\\lib\\site-packages (from torch) (2022.7.1)\n",
      "Requirement already satisfied: mpmath<1.4,>=1.1.0 in c:\\programdata\\anaconda3\\lib\\site-packages (from sympy==1.13.1->torch) (1.2.1)\n",
      "Requirement already satisfied: MarkupSafe>=0.23 in c:\\programdata\\anaconda3\\lib\\site-packages (from jinja2->torch) (2.0.1)\n",
      "Installing collected packages: sympy, torch\n",
      "  Attempting uninstall: sympy\n",
      "    Found existing installation: sympy 1.10.1\n",
      "    Uninstalling sympy-1.10.1:\n",
      "      Successfully uninstalled sympy-1.10.1\n",
      "Successfully installed sympy-1.13.1 torch-2.5.1\n",
      "Note: you may need to restart the kernel to use updated packages.\n"
     ]
    }
   ],
   "source": [
    "pip install torch"
   ]
  },
  {
   "cell_type": "code",
   "execution_count": 2,
   "id": "2a09142a-86c6-4193-97dc-8fad1c3c5bd6",
   "metadata": {},
   "outputs": [],
   "source": [
    "import torch"
   ]
  },
  {
   "cell_type": "code",
   "execution_count": 3,
   "id": "2649b9da-1663-45f2-98b9-e36c02dca4e1",
   "metadata": {},
   "outputs": [],
   "source": [
    "x1 = torch.tensor(0.0, requires_grad=True)\n",
    "x2 = torch.tensor(1.0, requires_grad=True)"
   ]
  },
  {
   "cell_type": "code",
   "execution_count": 4,
   "id": "6314b774-eb83-4f74-8049-427126bce891",
   "metadata": {},
   "outputs": [],
   "source": [
    "v_minus_1 = x1\n",
    "v0 = x2\n",
    "v1 = 1\n",
    "v3 = v_minus_1**2+2*v0+v1\n",
    "v4 = torch.sigmoid(v3)\n",
    "v5 = 4*v4+v1"
   ]
  },
  {
   "cell_type": "code",
   "execution_count": 5,
   "id": "420510c3-bba7-4d0d-9525-ad0fbf0a1443",
   "metadata": {},
   "outputs": [
    {
     "name": "stdout",
     "output_type": "stream",
     "text": [
      "tensor(2.)\n"
     ]
    }
   ],
   "source": [
    "v3.backward()\n",
    "print(x2.grad)"
   ]
  },
  {
   "cell_type": "code",
   "execution_count": 6,
   "id": "7a46785d-35a8-41c3-9597-ad1ce2d76259",
   "metadata": {},
   "outputs": [],
   "source": [
    "if x1.grad is not None:\n",
    "    x1.grad.zero_()\n",
    "if x2.grad is not None:\n",
    "    x2.grad.zero_()\n",
    "v0.backward(retain_graph=True)"
   ]
  },
  {
   "cell_type": "code",
   "execution_count": 7,
   "id": "9b8209e6-bc04-4424-bdbb-95f83420c13f",
   "metadata": {},
   "outputs": [
    {
     "name": "stdout",
     "output_type": "stream",
     "text": [
      "节点v_minus_1是x1的导数\n",
      "节点v0是x1的导数\n",
      "节点v1是x1的导数\n",
      "节点v3是x1的导数\n",
      "节点v4是x1的导数\n",
      "节点v5是x1的导数\n"
     ]
    }
   ],
   "source": [
    "node_dict = {\"v_minus_1\":v_minus_1,\"v0\":v0,\"v1\":v1,\"v3\":v3,\"v4\":v4,\"v5\":v5}\n",
    "for k in node_dict:\n",
    "    print(f\"节点{k}是x1的导数\")"
   ]
  },
  {
   "cell_type": "code",
   "execution_count": 8,
   "id": "82102798-32df-4413-98a9-b954a0ee1f69",
   "metadata": {},
   "outputs": [
    {
     "ename": "SyntaxError",
     "evalue": "invalid syntax (3414815009.py, line 8)",
     "output_type": "error",
     "traceback": [
      "\u001b[1;36m  File \u001b[1;32m\"C:\\Users\\Administrator\\AppData\\Local\\Temp\\ipykernel_12412\\3414815009.py\"\u001b[1;36m, line \u001b[1;32m8\u001b[0m\n\u001b[1;33m    print(f\"节点{k}对{var_name}的导数\"var_dict[var_name].grad)\u001b[0m\n\u001b[1;37m                                ^\u001b[0m\n\u001b[1;31mSyntaxError\u001b[0m\u001b[1;31m:\u001b[0m invalid syntax\n"
     ]
    }
   ],
   "source": [
    "node_dict = {\"v_minus_1\":v_minus_1,\"v0\":v0,\"v1\":v1,\"v3\":v3,\"v4\":v4,\"v5\":v5}\n",
    "var_dict = {\"x1\":x1,\"x2\":x2}\n",
    "for k in node_dict:\n",
    "    for var_name in var_dict:\n",
    "        if var_dict[var_name].grad is not None:\n",
    "            var_dict[var_name].grad.zero_()\n",
    "        node_dict[k].backward(retain_graph=True)\n",
    "        print(f\"节点{k}对{var_name}的导数\"var_dict[var_name].grad)"
   ]
  },
  {
   "cell_type": "code",
   "execution_count": null,
   "id": "e33d613d-0ae5-4511-a160-5dc50f35cc9b",
   "metadata": {},
   "outputs": [],
   "source": []
  }
 ],
 "metadata": {
  "kernelspec": {
   "display_name": "Python 3 (ipykernel)",
   "language": "python",
   "name": "python3"
  },
  "language_info": {
   "codemirror_mode": {
    "name": "ipython",
    "version": 3
   },
   "file_extension": ".py",
   "mimetype": "text/x-python",
   "name": "python",
   "nbconvert_exporter": "python",
   "pygments_lexer": "ipython3",
   "version": "3.9.13"
  }
 },
 "nbformat": 4,
 "nbformat_minor": 5
}
