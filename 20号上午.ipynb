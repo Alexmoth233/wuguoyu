{
 "cells": [
  {
   "cell_type": "code",
   "execution_count": 21,
   "id": "9e8a8d8a-2984-489b-9f48-f08a9a8dd1f1",
   "metadata": {},
   "outputs": [
    {
     "name": "stdout",
     "output_type": "stream",
     "text": [
      "Requirement already satisfied: ZhipuAI in c:\\programdata\\anaconda3\\lib\\site-packages (2.1.5.20230904)\n",
      "Requirement already satisfied: cachetools>=4.2.2 in c:\\programdata\\anaconda3\\lib\\site-packages (from ZhipuAI) (5.5.0)\n",
      "Requirement already satisfied: pydantic<3.0,>=1.9.0 in c:\\programdata\\anaconda3\\lib\\site-packages (from ZhipuAI) (2.9.2)\n",
      "Requirement already satisfied: httpx>=0.23.0 in c:\\programdata\\anaconda3\\lib\\site-packages (from ZhipuAI) (0.27.2)\n",
      "Requirement already satisfied: pydantic-core>=2.14.6 in c:\\programdata\\anaconda3\\lib\\site-packages (from ZhipuAI) (2.23.4)\n",
      "Requirement already satisfied: pyjwt<2.9.0,>=2.8.0 in c:\\programdata\\anaconda3\\lib\\site-packages (from ZhipuAI) (2.8.0)\n",
      "Requirement already satisfied: idna in c:\\programdata\\anaconda3\\lib\\site-packages (from httpx>=0.23.0->ZhipuAI) (3.3)\n",
      "Requirement already satisfied: sniffio in c:\\programdata\\anaconda3\\lib\\site-packages (from httpx>=0.23.0->ZhipuAI) (1.2.0)\n",
      "Requirement already satisfied: certifi in c:\\programdata\\anaconda3\\lib\\site-packages (from httpx>=0.23.0->ZhipuAI) (2022.9.14)\n",
      "Requirement already satisfied: anyio in c:\\programdata\\anaconda3\\lib\\site-packages (from httpx>=0.23.0->ZhipuAI) (3.5.0)\n",
      "Requirement already satisfied: httpcore==1.* in c:\\programdata\\anaconda3\\lib\\site-packages (from httpx>=0.23.0->ZhipuAI) (1.0.7)\n",
      "Requirement already satisfied: h11<0.15,>=0.13 in c:\\programdata\\anaconda3\\lib\\site-packages (from httpcore==1.*->httpx>=0.23.0->ZhipuAI) (0.14.0)\n",
      "Requirement already satisfied: annotated-types>=0.6.0 in c:\\programdata\\anaconda3\\lib\\site-packages (from pydantic<3.0,>=1.9.0->ZhipuAI) (0.7.0)\n",
      "Requirement already satisfied: typing-extensions>=4.6.1 in c:\\programdata\\anaconda3\\lib\\site-packages (from pydantic<3.0,>=1.9.0->ZhipuAI) (4.12.2)\n",
      "Note: you may need to restart the kernel to use updated packages.\n"
     ]
    }
   ],
   "source": [
    "pip install ZhipuAI"
   ]
  },
  {
   "cell_type": "code",
   "execution_count": 22,
   "id": "b19a1e11-8744-4054-b3cd-8edf0d40ede6",
   "metadata": {},
   "outputs": [],
   "source": [
    "import os\n",
    "import base64"
   ]
  },
  {
   "cell_type": "code",
   "execution_count": 17,
   "id": "483d4f82-5972-4221-a94f-ce3d65d4d5df",
   "metadata": {},
   "outputs": [],
   "source": [
    "import os\n",
    "from zhipuai import ZhipuAI\n",
    "import base64\n",
    "os.environ[\"ZHIPUAI_API_KEY\"]=\"e2f39e787ffa219ea674cbeb3c18f929.z3y90kVwbqG5DVe8\"\n",
    "client=ZhipuAI()"
   ]
  },
  {
   "cell_type": "code",
   "execution_count": 29,
   "id": "f8b5743a-d215-4018-bdad-dcc884f47a51",
   "metadata": {},
   "outputs": [
    {
     "ename": "SyntaxError",
     "evalue": "(unicode error) 'unicodeescape' codec can't decode bytes in position 12-13: truncated \\UXXXXXXXX escape (2110746854.py, line 1)",
     "output_type": "error",
     "traceback": [
      "\u001b[1;36m  File \u001b[1;32m\"C:\\Users\\Administrator\\AppData\\Local\\Temp\\ipykernel_4584\\2110746854.py\"\u001b[1;36m, line \u001b[1;32m1\u001b[0m\n\u001b[1;33m    videl_path=\"‪C:\\Users\\Administrator\\Desktop\\4d81e8a7-b6c5-5658-b3d2-95656903476d_0.mp4\"\u001b[0m\n\u001b[1;37m                                                                                           ^\u001b[0m\n\u001b[1;31mSyntaxError\u001b[0m\u001b[1;31m:\u001b[0m (unicode error) 'unicodeescape' codec can't decode bytes in position 12-13: truncated \\UXXXXXXXX escape\n"
     ]
    }
   ],
   "source": [
    "videl_path=\"‪C:\\Users\\Administrator\\Desktop\\4d81e8a7-b6c5-5658-b3d2-95656903476d_0.mp4\"\n",
    "with open(video_path,'rb') as video_file:\n",
    "    video_base=base64.b64encode(video_file.read()).decode('utf-8')\n",
    "    \n",
    "    response=client.chat.completions.create\n",
    "model\"glm-4v-plus\",\n",
    "temperature=0.0,\n",
    "top_p=0,\n",
    "\n",
    "messages=[{\n",
    "    \"role\":\"user\",\n",
    "    \"content\":[{\n",
    "        \"type\":\"video_url\",\n",
    "        \"video_url\":{\"url\":video_base}},\n",
    "        {\"type\":\"text\",\n",
    "         \"text\":\"请仔细描述这个视频的环境，以有趣的方式讲给我听\"\n",
    "        }]\n",
    "   }]\n",
    ")\n",
    "print(response.choices[0].message)"
   ]
  },
  {
   "cell_type": "code",
   "execution_count": 30,
   "id": "dcd9bd66-8bc2-4114-8c54-59239d05c2da",
   "metadata": {},
   "outputs": [
    {
     "ename": "SyntaxError",
     "evalue": "(unicode error) 'unicodeescape' codec can't decode bytes in position 12-13: truncated \\UXXXXXXXX escape (2035260076.py, line 1)",
     "output_type": "error",
     "traceback": [
      "\u001b[1;36m  File \u001b[1;32m\"C:\\Users\\Administrator\\AppData\\Local\\Temp\\ipykernel_4584\\2035260076.py\"\u001b[1;36m, line \u001b[1;32m1\u001b[0m\n\u001b[1;33m    video_path = \"‪C:\\Users\\Administrator\\Desktop\\4d81e8a7-b6c5-5658-b3d2-95656903476d_0.mp4\"\u001b[0m\n\u001b[1;37m                                                                                             ^\u001b[0m\n\u001b[1;31mSyntaxError\u001b[0m\u001b[1;31m:\u001b[0m (unicode error) 'unicodeescape' codec can't decode bytes in position 12-13: truncated \\UXXXXXXXX escape\n"
     ]
    }
   ],
   "source": [
    "video_path = \"‪C:\\Users\\Administrator\\Desktop\\4d81e8a7-b6c5-5658-b3d2-95656903476d_0.mp4\"\n",
    "with open(video_path, 'rb') as video_file:\n",
    "    video_base = base64.b64encode(video_file.read()).decode('utf-8')"
   ]
  },
  {
   "cell_type": "code",
   "execution_count": 27,
   "id": "1d68858b-e4dc-448f-92e3-eb50b9bde6d3",
   "metadata": {},
   "outputs": [
    {
     "ename": "NameError",
     "evalue": "name 'video_base' is not defined",
     "output_type": "error",
     "traceback": [
      "\u001b[1;31m---------------------------------------------------------------------------\u001b[0m",
      "\u001b[1;31mNameError\u001b[0m                                 Traceback (most recent call last)",
      "\u001b[1;32m~\\AppData\\Local\\Temp\\ipykernel_4584\\3034937195.py\u001b[0m in \u001b[0;36m<module>\u001b[1;34m\u001b[0m\n\u001b[0;32m      8\u001b[0m \"content\":[{\n\u001b[0;32m      9\u001b[0m \u001b[1;34m\"type\"\u001b[0m\u001b[1;33m:\u001b[0m\u001b[1;34m\"video_url\"\u001b[0m\u001b[1;33m,\u001b[0m\u001b[1;33m\u001b[0m\u001b[1;33m\u001b[0m\u001b[0m\n\u001b[1;32m---> 10\u001b[1;33m \u001b[1;34m\"video_url\"\u001b[0m\u001b[1;33m:\u001b[0m\u001b[1;33m{\u001b[0m\u001b[1;34m\"url\"\u001b[0m\u001b[1;33m:\u001b[0m\u001b[0mvideo_base\u001b[0m\u001b[1;33m}\u001b[0m\u001b[1;33m\u001b[0m\u001b[1;33m\u001b[0m\u001b[0m\n\u001b[0m\u001b[0;32m     11\u001b[0m \u001b[1;33m}\u001b[0m\u001b[1;33m,\u001b[0m\u001b[1;33m{\u001b[0m\u001b[1;33m\u001b[0m\u001b[1;33m\u001b[0m\u001b[0m\n\u001b[0;32m     12\u001b[0m \u001b[1;34m\"type\"\u001b[0m\u001b[1;33m:\u001b[0m\u001b[1;34m\"text\"\u001b[0m\u001b[1;33m,\u001b[0m\u001b[1;33m\u001b[0m\u001b[1;33m\u001b[0m\u001b[0m\n",
      "\u001b[1;31mNameError\u001b[0m: name 'video_base' is not defined"
     ]
    }
   ],
   "source": [
    "response = client.chat.completions.create(\n",
    "model=\"glm-4v-plus\",\n",
    "temperature=0.0,\n",
    "top_p=0,\n",
    "\n",
    "messages=[{\n",
    "\"role\":\"user\",\n",
    "\"content\":[{\n",
    "\"type\":\"video_url\",\n",
    "\"video_url\":{\"url\":video_base}\n",
    "},{\n",
    "\"type\":\"text\",\n",
    "\"text\":\"请仔细描述这个视频的环境，以有趣的方式讲给我听\"\n",
    "}]\n",
    "}]\n",
    ")\n",
    "print(response.choices[0].message)"
   ]
  },
  {
   "cell_type": "code",
   "execution_count": null,
   "id": "d94bffd0-7314-4e41-8482-9397b16437fe",
   "metadata": {},
   "outputs": [],
   "source": []
  }
 ],
 "metadata": {
  "kernelspec": {
   "display_name": "Python 3 (ipykernel)",
   "language": "python",
   "name": "python3"
  },
  "language_info": {
   "codemirror_mode": {
    "name": "ipython",
    "version": 3
   },
   "file_extension": ".py",
   "mimetype": "text/x-python",
   "name": "python",
   "nbconvert_exporter": "python",
   "pygments_lexer": "ipython3",
   "version": "3.9.13"
  }
 },
 "nbformat": 4,
 "nbformat_minor": 5
}
