{
 "cells": [
  {
   "cell_type": "code",
   "execution_count": null,
   "id": "91fec3c4-f1ab-4b50-b3e8-73ebf0fbd8e1",
   "metadata": {},
   "outputs": [],
   "source": [
    "pip install torch\n",
    "pip install numpy"
   ]
  },
  {
   "cell_type": "code",
   "execution_count": null,
   "id": "2e050b9e-2572-4598-a51e-532cb1544c87",
   "metadata": {},
   "outputs": [],
   "source": [
    "import numpy as np\n",
    "import matplotlib.pyplot as plt\n",
    "import torch\n",
    "import torch.nn as nn\n",
    "import torch.optim as optim\n",
    "\n",
    "# 构造数据\n",
    "np.random.seed(0)\n",
    "x = np.linspace(-10, 10, 100)\n",
    "y = 2 * x + 1 + np.random.normal(0, 20, 100)  # 添加噪声\n",
    "\n",
    "# 转换为PyTorch张量\n",
    "x_tensor = torch.tensor(x, dtype=torch.float32).view(-1, 1)\n",
    "y_tensor = torch.tensor(y, dtype=torch.float32).view(-1, 1)"
   ]
  },
  {
   "cell_type": "code",
   "execution_count": null,
   "id": "87bb0140-c19f-44e2-9aa8-c9e69d245e08",
   "metadata": {},
   "outputs": [],
   "source": [
    "# 定义线性回归模型\n",
    "class LinearRegressionModel(nn.Module):\n",
    "    def __init__(self):\n",
    "        super(LinearRegressionModel, self).__init__()\n",
    "        self.linear = nn.Linear(1, 1)\n",
    "\n",
    "    def forward(self, x):\n",
    "        return self.linear(x)\n",
    "\n",
    "# 实例化模型\n",
    "model = LinearRegressionModel()\n",
    "\n",
    "# 定义损失函数（均方误差）\n",
    "criterion = nn.MSELoss()\n",
    "\n",
    "# 选择优化器（梯度下降）\n",
    "optimizer = optim.SGD(model.parameters(), lr=0.01)\n",
    "\n",
    "# 训练模型\n",
    "num_epochs = 1000\n",
    "for epoch in range(num_epochs):\n",
    "    model.train()\n",
    "    predictions = model(x_tensor)\n",
    "    loss = criterion(predictions, y_tensor)\n",
    "\n",
    "    optimizer.zero_grad()\n",
    "    loss.backward()\n",
    "    optimizer.step()\n",
    "\n",
    "    if (epoch+1) % 100 == 0:\n",
    "        print(f'Epoch [{epoch+1}/{num_epochs}], Loss: {loss.item():.4f}')\n",
    "\n",
    "# 测试模型\n",
    "with torch.no_grad():\n",
    "    predicted = model(x_tensor)\n",
    "    \n",
    "plt.scatter(x, y, color='blue')  # 绘制原始数据点\n",
    "plt.plot(x, predicted.numpy(), color='red')  # 绘制拟合直线\n",
    "plt.xlabel('X')\n",
    "plt.ylabel('Y')\n",
    "plt.title('Linear Regression Model')\n",
    "plt.show()"
   ]
  },
  {
   "cell_type": "code",
   "execution_count": null,
   "id": "ebc5f26a-c132-4647-a42c-0835f7622602",
   "metadata": {},
   "outputs": [],
   "source": []
  }
 ],
 "metadata": {
  "kernelspec": {
   "display_name": "Python 3 (ipykernel)",
   "language": "python",
   "name": "python3"
  },
  "language_info": {
   "codemirror_mode": {
    "name": "ipython",
    "version": 3
   },
   "file_extension": ".py",
   "mimetype": "text/x-python",
   "name": "python",
   "nbconvert_exporter": "python",
   "pygments_lexer": "ipython3",
   "version": "3.9.13"
  }
 },
 "nbformat": 4,
 "nbformat_minor": 5
}
